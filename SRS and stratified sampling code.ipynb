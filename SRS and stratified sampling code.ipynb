{
 "cells": [
  {
   "cell_type": "markdown",
   "metadata": {},
   "source": [
    "## STAT 344 Group Project"
   ]
  },
  {
   "cell_type": "code",
   "execution_count": 1,
   "metadata": {
    "collapsed": true,
    "jupyter": {
     "outputs_hidden": true
    },
    "vscode": {
     "languageId": "r"
    }
   },
   "outputs": [
    {
     "name": "stderr",
     "output_type": "stream",
     "text": [
      "\n",
      "Attaching package: 'dplyr'\n",
      "\n",
      "\n",
      "The following objects are masked from 'package:stats':\n",
      "\n",
      "    filter, lag\n",
      "\n",
      "\n",
      "The following objects are masked from 'package:base':\n",
      "\n",
      "    intersect, setdiff, setequal, union\n",
      "\n",
      "\n"
     ]
    }
   ],
   "source": [
    "# load the packages\n",
    "library(dplyr)"
   ]
  },
  {
   "cell_type": "code",
   "execution_count": 2,
   "metadata": {
    "collapsed": true,
    "jupyter": {
     "outputs_hidden": true,
     "source_hidden": true
    },
    "scrolled": true,
    "vscode": {
     "languageId": "r"
    }
   },
   "outputs": [],
   "source": [
    "# read the data\n",
    "data <- read.csv(\"Engineering_graduate_salary.csv\", header=TRUE)\n",
    "\n",
    "# set seed\n",
    "set.seed(1)"
   ]
  },
  {
   "cell_type": "code",
   "execution_count": 3,
   "metadata": {
    "scrolled": true,
    "vscode": {
     "languageId": "r"
    }
   },
   "outputs": [
    {
     "data": {
      "text/html": [
       "2998"
      ],
      "text/latex": [
       "2998"
      ],
      "text/markdown": [
       "2998"
      ],
      "text/plain": [
       "[1] 2998"
      ]
     },
     "metadata": {},
     "output_type": "display_data"
    }
   ],
   "source": [
    "# some important number\n",
    "N <- nrow(data)  # Total population size\n",
    "N\n",
    "sample_size <- 300"
   ]
  },
  {
   "cell_type": "code",
   "execution_count": 5,
   "metadata": {
    "vscode": {
     "languageId": "r"
    }
   },
   "outputs": [
    {
     "name": "stdout",
     "output_type": "stream",
     "text": [
      "Mean Salary: 306816.7 \n"
     ]
    },
    {
     "name": "stdout",
     "output_type": "stream",
     "text": [
      "Standard Error of Mean Salary with FPC: 10682.97 \n",
      "Proportion of A GPA 0.1133333 \n",
      "Standard Error of Proportion of A GPA with FPC: 0.01736505 \n"
     ]
    }
   ],
   "source": [
    "# SRS\n",
    "srs_sample <- data %>% sample_n(sample_size)\n",
    "\n",
    "# Calculate mean salary & se\n",
    "mean_salary_srs <- mean(srs_sample$Salary, na.rm = TRUE)\n",
    "se_salary_srs <- sd(srs_sample$Salary, na.rm = TRUE) / sqrt(sample_size)\n",
    "se_salary_srs_fpc <- se_salary_srs * sqrt((N - sample_size) / (N - 1))\n",
    "\n",
    "\n",
    "\n",
    "# Calculate proportion of students with A GPA & se\n",
    "proportion_gpa_srs <- mean(srs_sample$collegeGPA >= 80, na.rm = TRUE)\n",
    "se_proportion_gpa_srs <- sqrt(proportion_gpa_srs * (1 - proportion_gpa_srs) / sample_size)\n",
    "se_proportion_gpa_srs_fpc <- se_proportion_gpa_srs * sqrt((N - sample_size) / (N - 1))\n",
    "\n",
    "\n",
    "\n",
    "# results\n",
    "cat(\"Mean Salary:\", mean_salary_srs, \"\\n\")\n",
    "cat(\"Standard Error of Mean Salary with FPC:\", se_salary_srs_fpc, \"\\n\")\n",
    "\n",
    "cat(\"Proportion of A GPA\", proportion_gpa_srs, \"\\n\")\n",
    "cat(\"Standard Error of Proportion of A GPA with FPC:\", se_proportion_gpa_srs_fpc, \"\\n\")"
   ]
  },
  {
   "cell_type": "code",
   "execution_count": 6,
   "metadata": {
    "vscode": {
     "languageId": "r"
    }
   },
   "outputs": [
    {
     "name": "stdout",
     "output_type": "stream",
     "text": [
      "Stratified Mean Salary: 33183.79 \n",
      "Stratified Standard Error of Mean Salary with FPC: 1762.832 \n",
      "Stratified Proportion of A GPA: 0.01167445 \n",
      "Stratified Standard Error of Proportion of A GPA with FPC: 0.001748675 \n"
     ]
    }
   ],
   "source": [
    "# Stratified Sampling by Gender\n",
    "stratified_sample <- data %>%\n",
    "  group_by(Gender) %>%\n",
    "  sample_frac(0.1)  # Adjust fraction for 10%\n",
    "\n",
    "stratified_stats <- stratified_sample %>%\n",
    "  group_by(Gender) %>%\n",
    "  summarise(\n",
    "    N_h = n(),\n",
    "    n_h = n(),\n",
    "    mean_salary_h = mean(Salary, na.rm = TRUE),\n",
    "    prop_A_gpa_h = mean(collegeGPA >= 80, na.rm = TRUE),\n",
    "    var_salary_h = var(Salary, na.rm = TRUE),\n",
    "    var_prop_A_h = prop_A_gpa_h * (1 - prop_A_gpa_h)\n",
    "  ) %>%\n",
    "  ungroup() %>%\n",
    "  mutate(weight_h = N_h / N)  # Weight of each stratum\n",
    "\n",
    "# Combined estimates using weights\n",
    "stratified_mean_salary <- sum(stratified_stats$weight_h * stratified_stats$mean_salary_h)\n",
    "stratified_prop_A_gpa <- sum(stratified_stats$weight_h * stratified_stats$prop_A_gpa_h)\n",
    "\n",
    "# Calculate SE with FPC for the combined stratified estimates\n",
    "stratified_se_salary <- sqrt(sum((stratified_stats$weight_h^2) * (stratified_stats$var_salary_h / stratified_stats$n_h))) * sqrt((N - nrow(stratified_sample)) / (N - 1))\n",
    "stratified_se_prop_A <- sqrt(sum((stratified_stats$weight_h^2) * (stratified_stats$var_prop_A_h / stratified_stats$n_h))) * sqrt((N - nrow(stratified_sample)) / (N - 1))\n",
    "\n",
    "cat(\"Stratified Mean Salary:\", stratified_mean_salary, \"\\n\")\n",
    "cat(\"Stratified Standard Error of Mean Salary with FPC:\", stratified_se_salary, \"\\n\")\n",
    "\n",
    "cat(\"Stratified Proportion of A GPA:\", stratified_prop_A_gpa, \"\\n\")\n",
    "cat(\"Stratified Standard Error of Proportion of A GPA with FPC:\", stratified_se_prop_A, \"\\n\")"
   ]
  }
 ],
 "metadata": {
  "kernelspec": {
   "display_name": "R",
   "language": "R",
   "name": "ir"
  },
  "language_info": {
   "codemirror_mode": "r",
   "file_extension": ".r",
   "mimetype": "text/x-r-source",
   "name": "R",
   "pygments_lexer": "r",
   "version": "4.3.2"
  }
 },
 "nbformat": 4,
 "nbformat_minor": 4
}
