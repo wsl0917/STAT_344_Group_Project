{
 "cells": [
  {
   "cell_type": "markdown",
   "metadata": {},
   "source": [
    "## STAT 344 Group Project"
   ]
  },
  {
   "cell_type": "code",
   "execution_count": 1,
   "metadata": {
    "collapsed": true,
    "jupyter": {
     "outputs_hidden": true
    },
    "vscode": {
     "languageId": "r"
    }
   },
   "outputs": [
    {
     "name": "stderr",
     "output_type": "stream",
     "text": [
      "\n",
      "Attaching package: 'dplyr'\n",
      "\n",
      "\n",
      "The following objects are masked from 'package:stats':\n",
      "\n",
      "    filter, lag\n",
      "\n",
      "\n",
      "The following objects are masked from 'package:base':\n",
      "\n",
      "    intersect, setdiff, setequal, union\n",
      "\n",
      "\n"
     ]
    }
   ],
   "source": [
    "# load the packages\n",
    "library(dplyr)"
   ]
  },
  {
   "cell_type": "code",
   "execution_count": 2,
   "metadata": {
    "collapsed": true,
    "jupyter": {
     "outputs_hidden": true,
     "source_hidden": true
    },
    "scrolled": true,
    "vscode": {
     "languageId": "r"
    }
   },
   "outputs": [],
   "source": [
    "# read the data\n",
    "data <- read.csv(\"Engineering_graduate_salary.csv\", header=TRUE)\n",
    "\n",
    "# set seed\n",
    "set.seed(1)"
   ]
  },
  {
   "cell_type": "code",
   "execution_count": 6,
   "metadata": {
    "vscode": {
     "languageId": "r"
    }
   },
   "outputs": [
    {
     "data": {
      "text/html": [
       "<table class=\"dataframe\">\n",
       "<caption>A data.frame: 6 x 34</caption>\n",
       "<thead>\n",
       "\t<tr><th></th><th scope=col>ID</th><th scope=col>Gender</th><th scope=col>DOB</th><th scope=col>X10percentage</th><th scope=col>X10board</th><th scope=col>X12graduation</th><th scope=col>X12percentage</th><th scope=col>X12board</th><th scope=col>CollegeID</th><th scope=col>CollegeTier</th><th scope=col>...</th><th scope=col>MechanicalEngg</th><th scope=col>ElectricalEngg</th><th scope=col>TelecomEngg</th><th scope=col>CivilEngg</th><th scope=col>conscientiousness</th><th scope=col>agreeableness</th><th scope=col>extraversion</th><th scope=col>nueroticism</th><th scope=col>openess_to_experience</th><th scope=col>Salary</th></tr>\n",
       "\t<tr><th></th><th scope=col>&lt;int&gt;</th><th scope=col>&lt;chr&gt;</th><th scope=col>&lt;chr&gt;</th><th scope=col>&lt;dbl&gt;</th><th scope=col>&lt;chr&gt;</th><th scope=col>&lt;int&gt;</th><th scope=col>&lt;dbl&gt;</th><th scope=col>&lt;chr&gt;</th><th scope=col>&lt;int&gt;</th><th scope=col>&lt;int&gt;</th><th scope=col>...</th><th scope=col>&lt;int&gt;</th><th scope=col>&lt;int&gt;</th><th scope=col>&lt;int&gt;</th><th scope=col>&lt;int&gt;</th><th scope=col>&lt;dbl&gt;</th><th scope=col>&lt;dbl&gt;</th><th scope=col>&lt;dbl&gt;</th><th scope=col>&lt;dbl&gt;</th><th scope=col>&lt;dbl&gt;</th><th scope=col>&lt;int&gt;</th></tr>\n",
       "</thead>\n",
       "<tbody>\n",
       "\t<tr><th scope=row>1</th><td>604399</td><td>f</td><td>1990-10-22</td><td>87.80</td><td>cbse                        </td><td>2009</td><td>84.00</td><td>cbse                     </td><td> 6920</td><td>1</td><td>...</td><td>-1</td><td>-1</td><td> -1</td><td>-1</td><td>-0.1590</td><td> 0.3789</td><td> 1.2396</td><td> 0.14590</td><td> 0.2889</td><td>445000</td></tr>\n",
       "\t<tr><th scope=row>2</th><td>988334</td><td>m</td><td>1990-05-15</td><td>57.00</td><td>cbse                        </td><td>2010</td><td>64.50</td><td>cbse                     </td><td> 6624</td><td>2</td><td>...</td><td>-1</td><td>-1</td><td> -1</td><td>-1</td><td> 1.1336</td><td> 0.0459</td><td> 1.2396</td><td> 0.52620</td><td>-0.2859</td><td>110000</td></tr>\n",
       "\t<tr><th scope=row>3</th><td>301647</td><td>m</td><td>1989-08-21</td><td>77.33</td><td>maharashtra state board,pune</td><td>2007</td><td>85.17</td><td>amravati divisional board</td><td> 9084</td><td>2</td><td>...</td><td>-1</td><td>-1</td><td>260</td><td>-1</td><td> 0.5100</td><td>-0.1232</td><td> 1.5428</td><td>-0.29020</td><td>-0.2875</td><td>255000</td></tr>\n",
       "\t<tr><th scope=row>4</th><td>582313</td><td>m</td><td>1991-05-04</td><td>84.30</td><td>cbse                        </td><td>2009</td><td>86.00</td><td>cbse                     </td><td> 8195</td><td>1</td><td>...</td><td>-1</td><td>-1</td><td> -1</td><td>-1</td><td>-0.4463</td><td> 0.2124</td><td> 0.3174</td><td> 0.27270</td><td> 0.4805</td><td>420000</td></tr>\n",
       "\t<tr><th scope=row>5</th><td>339001</td><td>f</td><td>1990-10-30</td><td>82.00</td><td>cbse                        </td><td>2008</td><td>75.00</td><td>cbse                     </td><td> 4889</td><td>2</td><td>...</td><td>-1</td><td>-1</td><td> -1</td><td>-1</td><td>-1.4992</td><td>-0.7473</td><td>-1.0697</td><td> 0.06223</td><td> 0.1864</td><td>200000</td></tr>\n",
       "\t<tr><th scope=row>6</th><td>609356</td><td>f</td><td>1989-12-02</td><td>83.16</td><td>icse                        </td><td>2007</td><td>77.00</td><td>cbse                     </td><td>10950</td><td>1</td><td>...</td><td>-1</td><td>-1</td><td>313</td><td>-1</td><td> 0.8463</td><td>-0.6201</td><td>-0.7585</td><td>-0.99500</td><td>-0.2859</td><td>440000</td></tr>\n",
       "</tbody>\n",
       "</table>\n"
      ],
      "text/latex": [
       "A data.frame: 6 x 34\n",
       "\\begin{tabular}{r|lllllllllllllllllllll}\n",
       "  & ID & Gender & DOB & X10percentage & X10board & X12graduation & X12percentage & X12board & CollegeID & CollegeTier & ... & MechanicalEngg & ElectricalEngg & TelecomEngg & CivilEngg & conscientiousness & agreeableness & extraversion & nueroticism & openess\\_to\\_experience & Salary\\\\\n",
       "  & <int> & <chr> & <chr> & <dbl> & <chr> & <int> & <dbl> & <chr> & <int> & <int> & ... & <int> & <int> & <int> & <int> & <dbl> & <dbl> & <dbl> & <dbl> & <dbl> & <int>\\\\\n",
       "\\hline\n",
       "\t1 & 604399 & f & 1990-10-22 & 87.80 & cbse                         & 2009 & 84.00 & cbse                      &  6920 & 1 & ... & -1 & -1 &  -1 & -1 & -0.1590 &  0.3789 &  1.2396 &  0.14590 &  0.2889 & 445000\\\\\n",
       "\t2 & 988334 & m & 1990-05-15 & 57.00 & cbse                         & 2010 & 64.50 & cbse                      &  6624 & 2 & ... & -1 & -1 &  -1 & -1 &  1.1336 &  0.0459 &  1.2396 &  0.52620 & -0.2859 & 110000\\\\\n",
       "\t3 & 301647 & m & 1989-08-21 & 77.33 & maharashtra state board,pune & 2007 & 85.17 & amravati divisional board &  9084 & 2 & ... & -1 & -1 & 260 & -1 &  0.5100 & -0.1232 &  1.5428 & -0.29020 & -0.2875 & 255000\\\\\n",
       "\t4 & 582313 & m & 1991-05-04 & 84.30 & cbse                         & 2009 & 86.00 & cbse                      &  8195 & 1 & ... & -1 & -1 &  -1 & -1 & -0.4463 &  0.2124 &  0.3174 &  0.27270 &  0.4805 & 420000\\\\\n",
       "\t5 & 339001 & f & 1990-10-30 & 82.00 & cbse                         & 2008 & 75.00 & cbse                      &  4889 & 2 & ... & -1 & -1 &  -1 & -1 & -1.4992 & -0.7473 & -1.0697 &  0.06223 &  0.1864 & 200000\\\\\n",
       "\t6 & 609356 & f & 1989-12-02 & 83.16 & icse                         & 2007 & 77.00 & cbse                      & 10950 & 1 & ... & -1 & -1 & 313 & -1 &  0.8463 & -0.6201 & -0.7585 & -0.99500 & -0.2859 & 440000\\\\\n",
       "\\end{tabular}\n"
      ],
      "text/markdown": [
       "\n",
       "A data.frame: 6 x 34\n",
       "\n",
       "| <!--/--> | ID &lt;int&gt; | Gender &lt;chr&gt; | DOB &lt;chr&gt; | X10percentage &lt;dbl&gt; | X10board &lt;chr&gt; | X12graduation &lt;int&gt; | X12percentage &lt;dbl&gt; | X12board &lt;chr&gt; | CollegeID &lt;int&gt; | CollegeTier &lt;int&gt; | ... ... | MechanicalEngg &lt;int&gt; | ElectricalEngg &lt;int&gt; | TelecomEngg &lt;int&gt; | CivilEngg &lt;int&gt; | conscientiousness &lt;dbl&gt; | agreeableness &lt;dbl&gt; | extraversion &lt;dbl&gt; | nueroticism &lt;dbl&gt; | openess_to_experience &lt;dbl&gt; | Salary &lt;int&gt; |\n",
       "|---|---|---|---|---|---|---|---|---|---|---|---|---|---|---|---|---|---|---|---|---|---|\n",
       "| 1 | 604399 | f | 1990-10-22 | 87.80 | cbse                         | 2009 | 84.00 | cbse                      |  6920 | 1 | ... | -1 | -1 |  -1 | -1 | -0.1590 |  0.3789 |  1.2396 |  0.14590 |  0.2889 | 445000 |\n",
       "| 2 | 988334 | m | 1990-05-15 | 57.00 | cbse                         | 2010 | 64.50 | cbse                      |  6624 | 2 | ... | -1 | -1 |  -1 | -1 |  1.1336 |  0.0459 |  1.2396 |  0.52620 | -0.2859 | 110000 |\n",
       "| 3 | 301647 | m | 1989-08-21 | 77.33 | maharashtra state board,pune | 2007 | 85.17 | amravati divisional board |  9084 | 2 | ... | -1 | -1 | 260 | -1 |  0.5100 | -0.1232 |  1.5428 | -0.29020 | -0.2875 | 255000 |\n",
       "| 4 | 582313 | m | 1991-05-04 | 84.30 | cbse                         | 2009 | 86.00 | cbse                      |  8195 | 1 | ... | -1 | -1 |  -1 | -1 | -0.4463 |  0.2124 |  0.3174 |  0.27270 |  0.4805 | 420000 |\n",
       "| 5 | 339001 | f | 1990-10-30 | 82.00 | cbse                         | 2008 | 75.00 | cbse                      |  4889 | 2 | ... | -1 | -1 |  -1 | -1 | -1.4992 | -0.7473 | -1.0697 |  0.06223 |  0.1864 | 200000 |\n",
       "| 6 | 609356 | f | 1989-12-02 | 83.16 | icse                         | 2007 | 77.00 | cbse                      | 10950 | 1 | ... | -1 | -1 | 313 | -1 |  0.8463 | -0.6201 | -0.7585 | -0.99500 | -0.2859 | 440000 |\n",
       "\n"
      ],
      "text/plain": [
       "  ID     Gender DOB        X10percentage X10board                    \n",
       "1 604399 f      1990-10-22 87.80         cbse                        \n",
       "2 988334 m      1990-05-15 57.00         cbse                        \n",
       "3 301647 m      1989-08-21 77.33         maharashtra state board,pune\n",
       "4 582313 m      1991-05-04 84.30         cbse                        \n",
       "5 339001 f      1990-10-30 82.00         cbse                        \n",
       "6 609356 f      1989-12-02 83.16         icse                        \n",
       "  X12graduation X12percentage X12board                  CollegeID CollegeTier\n",
       "1 2009          84.00         cbse                       6920     1          \n",
       "2 2010          64.50         cbse                       6624     2          \n",
       "3 2007          85.17         amravati divisional board  9084     2          \n",
       "4 2009          86.00         cbse                       8195     1          \n",
       "5 2008          75.00         cbse                       4889     2          \n",
       "6 2007          77.00         cbse                      10950     1          \n",
       "  ... MechanicalEngg ElectricalEngg TelecomEngg CivilEngg conscientiousness\n",
       "1 ... -1             -1              -1         -1        -0.1590          \n",
       "2 ... -1             -1              -1         -1         1.1336          \n",
       "3 ... -1             -1             260         -1         0.5100          \n",
       "4 ... -1             -1              -1         -1        -0.4463          \n",
       "5 ... -1             -1              -1         -1        -1.4992          \n",
       "6 ... -1             -1             313         -1         0.8463          \n",
       "  agreeableness extraversion nueroticism openess_to_experience Salary\n",
       "1  0.3789        1.2396       0.14590     0.2889               445000\n",
       "2  0.0459        1.2396       0.52620    -0.2859               110000\n",
       "3 -0.1232        1.5428      -0.29020    -0.2875               255000\n",
       "4  0.2124        0.3174       0.27270     0.4805               420000\n",
       "5 -0.7473       -1.0697       0.06223     0.1864               200000\n",
       "6 -0.6201       -0.7585      -0.99500    -0.2859               440000"
      ]
     },
     "metadata": {},
     "output_type": "display_data"
    },
    {
     "data": {
      "text/html": [
       "<table class=\"dataframe\">\n",
       "<caption>A data.frame: 6 x 34</caption>\n",
       "<thead>\n",
       "\t<tr><th></th><th scope=col>ID</th><th scope=col>Gender</th><th scope=col>DOB</th><th scope=col>X10percentage</th><th scope=col>X10board</th><th scope=col>X12graduation</th><th scope=col>X12percentage</th><th scope=col>X12board</th><th scope=col>CollegeID</th><th scope=col>CollegeTier</th><th scope=col>...</th><th scope=col>MechanicalEngg</th><th scope=col>ElectricalEngg</th><th scope=col>TelecomEngg</th><th scope=col>CivilEngg</th><th scope=col>conscientiousness</th><th scope=col>agreeableness</th><th scope=col>extraversion</th><th scope=col>nueroticism</th><th scope=col>openess_to_experience</th><th scope=col>Salary</th></tr>\n",
       "\t<tr><th></th><th scope=col>&lt;int&gt;</th><th scope=col>&lt;chr&gt;</th><th scope=col>&lt;chr&gt;</th><th scope=col>&lt;dbl&gt;</th><th scope=col>&lt;chr&gt;</th><th scope=col>&lt;int&gt;</th><th scope=col>&lt;dbl&gt;</th><th scope=col>&lt;chr&gt;</th><th scope=col>&lt;int&gt;</th><th scope=col>&lt;int&gt;</th><th scope=col>...</th><th scope=col>&lt;int&gt;</th><th scope=col>&lt;int&gt;</th><th scope=col>&lt;int&gt;</th><th scope=col>&lt;int&gt;</th><th scope=col>&lt;dbl&gt;</th><th scope=col>&lt;dbl&gt;</th><th scope=col>&lt;dbl&gt;</th><th scope=col>&lt;dbl&gt;</th><th scope=col>&lt;dbl&gt;</th><th scope=col>&lt;int&gt;</th></tr>\n",
       "</thead>\n",
       "<tbody>\n",
       "\t<tr><th scope=row>2993</th><td>114364</td><td>m</td><td>1986-02-08</td><td>91.00</td><td>0                        </td><td>2003</td><td>73.00</td><td>0                        </td><td>1310</td><td>2</td><td>...</td><td>-1</td><td>-1</td><td>-1</td><td>-1</td><td> 0.8192</td><td> 1.4368</td><td>-0.0537</td><td>-1.81790</td><td> 0.8183</td><td>400000</td></tr>\n",
       "\t<tr><th scope=row>2994</th><td>103174</td><td>f</td><td>1989-04-17</td><td>75.00</td><td>0                        </td><td>2005</td><td>73.00</td><td>0                        </td><td>1263</td><td>2</td><td>...</td><td>-1</td><td>-1</td><td>-1</td><td>-1</td><td>-1.1901</td><td> 0.9688</td><td>-1.0697</td><td> 1.35490</td><td> 0.0284</td><td>120000</td></tr>\n",
       "\t<tr><th scope=row>2995</th><td>352811</td><td>f</td><td>1991-07-22</td><td>84.00</td><td>state board              </td><td>2008</td><td>77.00</td><td>state board              </td><td>9481</td><td>2</td><td>...</td><td>-1</td><td>-1</td><td>-1</td><td>-1</td><td>-0.1082</td><td> 0.0328</td><td>-0.4891</td><td>-0.29020</td><td> 0.5024</td><td>120000</td></tr>\n",
       "\t<tr><th scope=row>2996</th><td>287070</td><td>m</td><td>1988-11-24</td><td>91.40</td><td>bsemp                    </td><td>2006</td><td>65.56</td><td>bsemp                    </td><td> 547</td><td>2</td><td>...</td><td>-1</td><td>-1</td><td>-1</td><td>-1</td><td>-0.8810</td><td> 0.1888</td><td>-0.3440</td><td> 0.06230</td><td> 0.6603</td><td>385000</td></tr>\n",
       "\t<tr><th scope=row>2997</th><td>317336</td><td>m</td><td>1988-08-25</td><td>88.64</td><td>karnataka education board</td><td>2006</td><td>65.16</td><td>karnataka education board</td><td>1629</td><td>2</td><td>...</td><td>-1</td><td>-1</td><td>-1</td><td>-1</td><td> 1.4374</td><td> 1.2808</td><td>-0.4891</td><td>-1.46537</td><td> 0.5419</td><td>530000</td></tr>\n",
       "\t<tr><th scope=row>2998</th><td>993701</td><td>m</td><td>1992-05-27</td><td>77.00</td><td>state board              </td><td>2009</td><td>75.50</td><td>state board              </td><td>1111</td><td>2</td><td>...</td><td>-1</td><td>-1</td><td>-1</td><td>-1</td><td>-0.5899</td><td>-1.9521</td><td> 0.3174</td><td> 1.16010</td><td>-2.3937</td><td>200000</td></tr>\n",
       "</tbody>\n",
       "</table>\n"
      ],
      "text/latex": [
       "A data.frame: 6 x 34\n",
       "\\begin{tabular}{r|lllllllllllllllllllll}\n",
       "  & ID & Gender & DOB & X10percentage & X10board & X12graduation & X12percentage & X12board & CollegeID & CollegeTier & ... & MechanicalEngg & ElectricalEngg & TelecomEngg & CivilEngg & conscientiousness & agreeableness & extraversion & nueroticism & openess\\_to\\_experience & Salary\\\\\n",
       "  & <int> & <chr> & <chr> & <dbl> & <chr> & <int> & <dbl> & <chr> & <int> & <int> & ... & <int> & <int> & <int> & <int> & <dbl> & <dbl> & <dbl> & <dbl> & <dbl> & <int>\\\\\n",
       "\\hline\n",
       "\t2993 & 114364 & m & 1986-02-08 & 91.00 & 0                         & 2003 & 73.00 & 0                         & 1310 & 2 & ... & -1 & -1 & -1 & -1 &  0.8192 &  1.4368 & -0.0537 & -1.81790 &  0.8183 & 400000\\\\\n",
       "\t2994 & 103174 & f & 1989-04-17 & 75.00 & 0                         & 2005 & 73.00 & 0                         & 1263 & 2 & ... & -1 & -1 & -1 & -1 & -1.1901 &  0.9688 & -1.0697 &  1.35490 &  0.0284 & 120000\\\\\n",
       "\t2995 & 352811 & f & 1991-07-22 & 84.00 & state board               & 2008 & 77.00 & state board               & 9481 & 2 & ... & -1 & -1 & -1 & -1 & -0.1082 &  0.0328 & -0.4891 & -0.29020 &  0.5024 & 120000\\\\\n",
       "\t2996 & 287070 & m & 1988-11-24 & 91.40 & bsemp                     & 2006 & 65.56 & bsemp                     &  547 & 2 & ... & -1 & -1 & -1 & -1 & -0.8810 &  0.1888 & -0.3440 &  0.06230 &  0.6603 & 385000\\\\\n",
       "\t2997 & 317336 & m & 1988-08-25 & 88.64 & karnataka education board & 2006 & 65.16 & karnataka education board & 1629 & 2 & ... & -1 & -1 & -1 & -1 &  1.4374 &  1.2808 & -0.4891 & -1.46537 &  0.5419 & 530000\\\\\n",
       "\t2998 & 993701 & m & 1992-05-27 & 77.00 & state board               & 2009 & 75.50 & state board               & 1111 & 2 & ... & -1 & -1 & -1 & -1 & -0.5899 & -1.9521 &  0.3174 &  1.16010 & -2.3937 & 200000\\\\\n",
       "\\end{tabular}\n"
      ],
      "text/markdown": [
       "\n",
       "A data.frame: 6 x 34\n",
       "\n",
       "| <!--/--> | ID &lt;int&gt; | Gender &lt;chr&gt; | DOB &lt;chr&gt; | X10percentage &lt;dbl&gt; | X10board &lt;chr&gt; | X12graduation &lt;int&gt; | X12percentage &lt;dbl&gt; | X12board &lt;chr&gt; | CollegeID &lt;int&gt; | CollegeTier &lt;int&gt; | ... ... | MechanicalEngg &lt;int&gt; | ElectricalEngg &lt;int&gt; | TelecomEngg &lt;int&gt; | CivilEngg &lt;int&gt; | conscientiousness &lt;dbl&gt; | agreeableness &lt;dbl&gt; | extraversion &lt;dbl&gt; | nueroticism &lt;dbl&gt; | openess_to_experience &lt;dbl&gt; | Salary &lt;int&gt; |\n",
       "|---|---|---|---|---|---|---|---|---|---|---|---|---|---|---|---|---|---|---|---|---|---|\n",
       "| 2993 | 114364 | m | 1986-02-08 | 91.00 | 0                         | 2003 | 73.00 | 0                         | 1310 | 2 | ... | -1 | -1 | -1 | -1 |  0.8192 |  1.4368 | -0.0537 | -1.81790 |  0.8183 | 400000 |\n",
       "| 2994 | 103174 | f | 1989-04-17 | 75.00 | 0                         | 2005 | 73.00 | 0                         | 1263 | 2 | ... | -1 | -1 | -1 | -1 | -1.1901 |  0.9688 | -1.0697 |  1.35490 |  0.0284 | 120000 |\n",
       "| 2995 | 352811 | f | 1991-07-22 | 84.00 | state board               | 2008 | 77.00 | state board               | 9481 | 2 | ... | -1 | -1 | -1 | -1 | -0.1082 |  0.0328 | -0.4891 | -0.29020 |  0.5024 | 120000 |\n",
       "| 2996 | 287070 | m | 1988-11-24 | 91.40 | bsemp                     | 2006 | 65.56 | bsemp                     |  547 | 2 | ... | -1 | -1 | -1 | -1 | -0.8810 |  0.1888 | -0.3440 |  0.06230 |  0.6603 | 385000 |\n",
       "| 2997 | 317336 | m | 1988-08-25 | 88.64 | karnataka education board | 2006 | 65.16 | karnataka education board | 1629 | 2 | ... | -1 | -1 | -1 | -1 |  1.4374 |  1.2808 | -0.4891 | -1.46537 |  0.5419 | 530000 |\n",
       "| 2998 | 993701 | m | 1992-05-27 | 77.00 | state board               | 2009 | 75.50 | state board               | 1111 | 2 | ... | -1 | -1 | -1 | -1 | -0.5899 | -1.9521 |  0.3174 |  1.16010 | -2.3937 | 200000 |\n",
       "\n"
      ],
      "text/plain": [
       "     ID     Gender DOB        X10percentage X10board                 \n",
       "2993 114364 m      1986-02-08 91.00         0                        \n",
       "2994 103174 f      1989-04-17 75.00         0                        \n",
       "2995 352811 f      1991-07-22 84.00         state board              \n",
       "2996 287070 m      1988-11-24 91.40         bsemp                    \n",
       "2997 317336 m      1988-08-25 88.64         karnataka education board\n",
       "2998 993701 m      1992-05-27 77.00         state board              \n",
       "     X12graduation X12percentage X12board                  CollegeID\n",
       "2993 2003          73.00         0                         1310     \n",
       "2994 2005          73.00         0                         1263     \n",
       "2995 2008          77.00         state board               9481     \n",
       "2996 2006          65.56         bsemp                      547     \n",
       "2997 2006          65.16         karnataka education board 1629     \n",
       "2998 2009          75.50         state board               1111     \n",
       "     CollegeTier ... MechanicalEngg ElectricalEngg TelecomEngg CivilEngg\n",
       "2993 2           ... -1             -1             -1          -1       \n",
       "2994 2           ... -1             -1             -1          -1       \n",
       "2995 2           ... -1             -1             -1          -1       \n",
       "2996 2           ... -1             -1             -1          -1       \n",
       "2997 2           ... -1             -1             -1          -1       \n",
       "2998 2           ... -1             -1             -1          -1       \n",
       "     conscientiousness agreeableness extraversion nueroticism\n",
       "2993  0.8192            1.4368       -0.0537      -1.81790   \n",
       "2994 -1.1901            0.9688       -1.0697       1.35490   \n",
       "2995 -0.1082            0.0328       -0.4891      -0.29020   \n",
       "2996 -0.8810            0.1888       -0.3440       0.06230   \n",
       "2997  1.4374            1.2808       -0.4891      -1.46537   \n",
       "2998 -0.5899           -1.9521        0.3174       1.16010   \n",
       "     openess_to_experience Salary\n",
       "2993  0.8183               400000\n",
       "2994  0.0284               120000\n",
       "2995  0.5024               120000\n",
       "2996  0.6603               385000\n",
       "2997  0.5419               530000\n",
       "2998 -2.3937               200000"
      ]
     },
     "metadata": {},
     "output_type": "display_data"
    }
   ],
   "source": [
    "# the head of the dataset\n",
    "head(data)\n",
    "# also the tail, if needed\n",
    "tail(data)"
   ]
  },
  {
   "cell_type": "code",
   "execution_count": 3,
   "metadata": {
    "scrolled": true,
    "vscode": {
     "languageId": "r"
    }
   },
   "outputs": [
    {
     "data": {
      "text/html": [
       "2998"
      ],
      "text/latex": [
       "2998"
      ],
      "text/markdown": [
       "2998"
      ],
      "text/plain": [
       "[1] 2998"
      ]
     },
     "metadata": {},
     "output_type": "display_data"
    }
   ],
   "source": [
    "# some important number\n",
    "N <- nrow(data)  # Total population size\n",
    "N\n",
    "sample_size <- 300"
   ]
  },
  {
   "cell_type": "code",
   "execution_count": 4,
   "metadata": {
    "vscode": {
     "languageId": "r"
    }
   },
   "outputs": [
    {
     "name": "stdout",
     "output_type": "stream",
     "text": [
      "Mean Salary: 306816.7 \n",
      "Standard Error of Mean Salary with FPC: 10682.97 \n",
      "Proportion of A GPA 0.1133333 \n",
      "Standard Error of Proportion of A GPA with FPC: 0.01736505 \n"
     ]
    }
   ],
   "source": [
    "# SRS\n",
    "srs_sample <- data %>% sample_n(sample_size)\n",
    "\n",
    "# Calculate mean salary & se\n",
    "mean_salary_srs <- mean(srs_sample$Salary, na.rm = TRUE)\n",
    "se_salary_srs <- sd(srs_sample$Salary, na.rm = TRUE) / sqrt(sample_size)\n",
    "se_salary_srs_fpc <- se_salary_srs * sqrt((N - sample_size) / (N - 1))\n",
    "\n",
    "\n",
    "\n",
    "# Calculate proportion of students with A GPA & se\n",
    "proportion_gpa_srs <- mean(srs_sample$collegeGPA >= 80, na.rm = TRUE)\n",
    "se_proportion_gpa_srs <- sqrt(proportion_gpa_srs * (1 - proportion_gpa_srs) / sample_size)\n",
    "se_proportion_gpa_srs_fpc <- se_proportion_gpa_srs * sqrt((N - sample_size) / (N - 1))\n",
    "\n",
    "\n",
    "\n",
    "# results\n",
    "cat(\"Mean Salary:\", mean_salary_srs, \"\\n\")\n",
    "cat(\"Standard Error of Mean Salary with FPC:\", se_salary_srs_fpc, \"\\n\")\n",
    "\n",
    "cat(\"Proportion of A GPA\", proportion_gpa_srs, \"\\n\")\n",
    "cat(\"Standard Error of Proportion of A GPA with FPC:\", se_proportion_gpa_srs_fpc, \"\\n\")"
   ]
  },
  {
   "cell_type": "code",
   "execution_count": 7,
   "metadata": {
    "vscode": {
     "languageId": "r"
    }
   },
   "outputs": [
    {
     "name": "stdout",
     "output_type": "stream",
     "text": [
      "SRS Mean Salary CI: [ 285878.1 , 327755.3 ]\n",
      "SRS Proportion of A GPA CI: [ 0.07929784 , 0.1473688 ]\n"
     ]
    }
   ],
   "source": [
    "z <- 1.96\n",
    "\n",
    "# Confidence Interval for Mean Salary (SRS)\n",
    "ci_salary_srs_lower <- mean_salary_srs - z * se_salary_srs_fpc\n",
    "ci_salary_srs_upper <- mean_salary_srs + z * se_salary_srs_fpc\n",
    "\n",
    "# Confidence Interval for Proportion of A GPA (SRS)\n",
    "ci_prop_gpa_srs_lower <- proportion_gpa_srs - z * se_proportion_gpa_srs_fpc\n",
    "ci_prop_gpa_srs_upper <- proportion_gpa_srs + z * se_proportion_gpa_srs_fpc\n",
    "\n",
    "cat(\"SRS Mean Salary CI: [\", ci_salary_srs_lower, \",\", ci_salary_srs_upper, \"]\\n\")\n",
    "cat(\"SRS Proportion of A GPA CI: [\", ci_prop_gpa_srs_lower, \",\", ci_prop_gpa_srs_upper, \"]\\n\")\n"
   ]
  },
  {
   "cell_type": "code",
   "execution_count": 5,
   "metadata": {
    "vscode": {
     "languageId": "r"
    }
   },
   "outputs": [
    {
     "name": "stdout",
     "output_type": "stream",
     "text": [
      "Stratified Mean Salary: 33183.79 \n",
      "Stratified Standard Error of Mean Salary with FPC: 1762.832 \n",
      "Stratified Proportion of A GPA: 0.01167445 \n",
      "Stratified Standard Error of Proportion of A GPA with FPC: 0.001748675 \n"
     ]
    }
   ],
   "source": [
    "# Stratified Sampling by Gender\n",
    "stratified_sample <- data %>%\n",
    "  group_by(Gender) %>%\n",
    "  sample_frac(0.1)  # Adjust fraction for 10%\n",
    "\n",
    "stratified_stats <- stratified_sample %>%\n",
    "  group_by(Gender) %>%\n",
    "  summarise(\n",
    "    N_h = n(),\n",
    "    n_h = n(),\n",
    "    mean_salary_h = mean(Salary, na.rm = TRUE),\n",
    "    prop_A_gpa_h = mean(collegeGPA >= 80, na.rm = TRUE),\n",
    "    var_salary_h = var(Salary, na.rm = TRUE),\n",
    "    var_prop_A_h = prop_A_gpa_h * (1 - prop_A_gpa_h)\n",
    "  ) %>%\n",
    "  ungroup() %>%\n",
    "  mutate(weight_h = N_h / N)  # Weight of each stratum\n",
    "\n",
    "# Combined estimates using weights\n",
    "stratified_mean_salary <- sum(stratified_stats$weight_h * stratified_stats$mean_salary_h)\n",
    "stratified_prop_A_gpa <- sum(stratified_stats$weight_h * stratified_stats$prop_A_gpa_h)\n",
    "\n",
    "# Calculate SE with FPC for the combined stratified estimates\n",
    "stratified_se_salary <- sqrt(sum((stratified_stats$weight_h^2) * (stratified_stats$var_salary_h / stratified_stats$n_h))) * sqrt((N - nrow(stratified_sample)) / (N - 1))\n",
    "stratified_se_prop_A <- sqrt(sum((stratified_stats$weight_h^2) * (stratified_stats$var_prop_A_h / stratified_stats$n_h))) * sqrt((N - nrow(stratified_sample)) / (N - 1))\n",
    "\n",
    "cat(\"Stratified Mean Salary:\", stratified_mean_salary, \"\\n\")\n",
    "cat(\"Stratified Standard Error of Mean Salary with FPC:\", stratified_se_salary, \"\\n\")\n",
    "\n",
    "cat(\"Stratified Proportion of A GPA:\", stratified_prop_A_gpa, \"\\n\")\n",
    "cat(\"Stratified Standard Error of Proportion of A GPA with FPC:\", stratified_se_prop_A, \"\\n\")"
   ]
  },
  {
   "cell_type": "code",
   "execution_count": 8,
   "metadata": {
    "vscode": {
     "languageId": "r"
    }
   },
   "outputs": [
    {
     "name": "stdout",
     "output_type": "stream",
     "text": [
      "Stratified Mean Salary CI: [ 29728.64 , 36638.94 ]\n",
      "Stratified Proportion of A GPA CI: [ 0.008247046 , 0.01510185 ]\n"
     ]
    }
   ],
   "source": [
    "# Confidence Interval for Mean Salary (Stratified Sampling)\n",
    "ci_salary_strat_lower <- stratified_mean_salary - z * stratified_se_salary\n",
    "ci_salary_strat_upper <- stratified_mean_salary + z * stratified_se_salary\n",
    "\n",
    "# Confidence Interval for Proportion of A GPA (Stratified Sampling)\n",
    "ci_prop_gpa_strat_lower <- stratified_prop_A_gpa - z * stratified_se_prop_A\n",
    "ci_prop_gpa_strat_upper <- stratified_prop_A_gpa + z * stratified_se_prop_A\n",
    "\n",
    "cat(\"Stratified Mean Salary CI: [\", ci_salary_strat_lower, \",\", ci_salary_strat_upper, \"]\\n\")\n",
    "cat(\"Stratified Proportion of A GPA CI: [\", ci_prop_gpa_strat_lower, \",\", ci_prop_gpa_strat_upper, \"]\\n\")"
   ]
  }
 ],
 "metadata": {
  "kernelspec": {
   "display_name": "R",
   "language": "R",
   "name": "ir"
  },
  "language_info": {
   "codemirror_mode": "r",
   "file_extension": ".r",
   "mimetype": "text/x-r-source",
   "name": "R",
   "pygments_lexer": "r",
   "version": "4.3.2"
  }
 },
 "nbformat": 4,
 "nbformat_minor": 4
}
